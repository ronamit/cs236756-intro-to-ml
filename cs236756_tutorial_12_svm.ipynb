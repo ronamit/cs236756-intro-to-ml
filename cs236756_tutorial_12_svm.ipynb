{
 "cells": [
  {
   "cell_type": "markdown",
   "metadata": {
    "slideshow": {
     "slide_type": "slide"
    }
   },
   "source": [
    "# <img src=\"https://img.icons8.com/dusk/64/000000/mind-map.png\" style=\"height:50px;display:inline\"> CS 236756 - Technion - Intro to Machine Learning\n",
    "---\n",
    "#### Tal Daniel\n",
    "\n",
    "## Tutorial 12 - Support Vectors Machine (SVM)\n",
    "---"
   ]
  },
  {
   "cell_type": "markdown",
   "metadata": {
    "slideshow": {
     "slide_type": "slide"
    }
   },
   "source": [
    "### <img src=\"https://img.icons8.com/bubbles/50/000000/checklist.png\" style=\"height:50px;display:inline\"> Agenda\n",
    "---\n",
    "* [Motivation](#-Motivation)\n",
    "* [Linear SVM](#-Linear-SVM)\n",
    "    * [Hard Margin SVM (Linearly Separable Case)](#-Large-(Maximal)-Margin-Classifier---Hard-SVM---The-Linearly-Separable-Case)\n",
    "    * [Soft Margin SVM (Linearly Inseparable Case)](#-Soft-Margin-Classification---Soft-SVM---The-Linearly-Inseparable-Case)\n",
    "    * [Example](#-Linear-SVM-Example)\n",
    "* [The Dual Problem](#-The-Dual-Problem)\n",
    "* [Nonlinear SVM - Kernels](#-Nonlinear-SVM---Kernel-SVM)\n",
    "    * [The Kernel Trick](#-The-Kernel-Trick)\n",
    "        * [Kernel Functions Examples](#-The-Kernel-Trick---Polynomial-Kernel-Example)\n",
    "    * [Training and Predicting Using Kernel SVM](#-Training-and-Predicting-Using-Kernel-SVM)\n",
    "    * [Example](#-Nonlinear-SVM---Kernel-SVM-Example)\n",
    "* [Summary](#-SVM-Summary)\n",
    "* [Recommended Videos](#-Recommended-Videos)\n",
    "* [Credits](#-Credits)"
   ]
  },
  {
   "cell_type": "code",
   "execution_count": 1,
   "metadata": {
    "slideshow": {
     "slide_type": "skip"
    }
   },
   "outputs": [],
   "source": [
    "# imports for the tutorial\n",
    "import numpy as np\n",
    "import pandas as pd\n",
    "import matplotlib.pyplot as plt\n",
    "from sklearn.preprocessing import StandardScaler\n",
    "from sklearn.svm import LinearSVC\n",
    "from sklearn.svm import SVC\n",
    "%matplotlib notebook"
   ]
  },
  {
   "cell_type": "markdown",
   "metadata": {
    "slideshow": {
     "slide_type": "slide"
    }
   },
   "source": [
    "## <img src=\"https://img.icons8.com/dusk/64/000000/confetti.png\" style=\"height:50px;display:inline\"> Motivation\n",
    "---\n",
    "* A *Support Vector Machine* (SVM) is a very powerful ML model.\n",
    "    * Can perform linear or nonlinear classification, regression and even outlier detection.\n",
    "* SVMs are particularly well suited for classification of complex but **small-medium-sized** datasets.\n",
    "* Intuition: one can think of an SVM classifier as fitting the widest possible street between the classes (in the linearly separable case)."
   ]
  },
  {
   "cell_type": "markdown",
   "metadata": {
    "slideshow": {
     "slide_type": "slide"
    }
   },
   "source": [
    "## <img src=\"https://img.icons8.com/dusk/64/000000/line.png\" style=\"height:50px;display:inline\"> Linear SVM\n",
    "---\n",
    "### <img src=\"https://img.icons8.com/color/96/000000/rock.png\" style=\"height:50px;display:inline\"> Large (Maximal) Margin Classifier - Hard SVM - The Linearly Separable Case\n",
    "---\n",
    "Let's start with an example by looking at the following figures: \n",
    "<img src='./assets/tut_11_large_margin.png' style='height:250px'>\n",
    "\n",
    "* <a href=\"https://towardsdatascience.com/support-vector-machine-vs-logistic-regression-94cc2975433f\">Image Source</a>"
   ]
  },
  {
   "cell_type": "markdown",
   "metadata": {
    "slideshow": {
     "slide_type": "subslide"
    }
   },
   "source": [
    "* It can easily be seen that the 2 classes can be separated using a linear decision boundary (a straight line), that is, they are linearly separable. \n",
    "* In the left figure, there are several choices for the classifier. All of them will result in 0 training error, but some of them are so close to the instances that these models will probably not perform as well on new instances.\n",
    "* On the right, the classifier represents the decision boundary of an SVM classifier."
   ]
  },
  {
   "cell_type": "markdown",
   "metadata": {
    "slideshow": {
     "slide_type": "subslide"
    }
   },
   "source": [
    "* It not only separates the two classes but also stays as far away from the closest training instances as possible.\n",
    "* This is why SVM can be thought of as fitting the widest street possible between classes.\n",
    "* This is also called *large/maximal margin classification*.\n",
    "* Notice that adding more training instances \"off the street\" will not affect the decision boundary as it is fully \"supported\" by the instances located on the edge of the \"street\", and this is why they are called **support vectors** (fully colored in the right figure).\n",
    "* Note that SVM's are very sensitive to the features' scales (so use feature scaling before fitting an SVM)."
   ]
  },
  {
   "cell_type": "markdown",
   "metadata": {
    "slideshow": {
     "slide_type": "slide"
    }
   },
   "source": [
    "### <img src=\"https://img.icons8.com/dusk/64/000000/search.png\" style=\"height:50px;display:inline\"> Finding the Decision Boundary - Constrained Optimization Problem (The Primal Problem)\n",
    "---\n",
    "#### The problem: select the separating hyperplane that maximizes the margin\n",
    "\n",
    "* The decision boundary should be as far as possible from the data of both classes."
   ]
  },
  {
   "cell_type": "markdown",
   "metadata": {
    "slideshow": {
     "slide_type": "subslide"
    }
   },
   "source": [
    "* In the following figure we should **maximize** the margin $m$ or equivalently **minimize** the norm $||w||$\n",
(proof: take some point on one plane and move in a direction of the normal by $m$ units $m  \frac{w}/{|w|}$ then you get to the other plane.)
    "\n",
    "<img src=\"./assets/tut_11_margin.jpg\" style=\"height:300px\">"
   ]
  },
  {
   "cell_type": "markdown",
   "metadata": {
    "slideshow": {
     "slide_type": "subslide"
    }
   },
   "source": [
    "* Let $\\{x_1, ..., x_n \\}$ be the data set and let $y_i \\in \\{-1, +1\\}$ be the class label of $x_i$\n",
    "    * The **decision boundary** should classify all points correctly, that is: $$ \\forall i, y_i(w^Tx_i + b) \\geq 1 $$\n",
    "* The decision boundary can be found by solving the following *quadratic constrained optimization* problem (also **hard margin linear SVM classifier objective**): $$ \\underset{w, b}{\\text{minimize}} \\text{   } \\frac{1}{2}||w||^2 = \\frac{1}{2} w^Tw $$ $$ \\text{subject to } y^{(i)}\\big( w^Tx^{(i)} +b \\big) \\geq 1, \\text{ for } i = 1,...,m $$\n",
    "    * We are minimizing $\\frac{1}{2}w^Tw = \\frac{1}{2}||w||^2$ rather than minimizing $||w||$ because it will result in the same parameters, but it has a nice and simple derivative."
   ]
  },
  {
   "cell_type": "markdown",
   "metadata": {
    "slideshow": {
     "slide_type": "subslide"
    }
   },
   "source": [
    "* **The solution**: this quadratic optimization problem with *linear **inequality** constraints* has a unique solution $(w^{*}, b^{*})$ and when feasible, $w^{*}$ can be recovered by: $$ w^{*} = \\sum_{i=1}^n \\alpha^{(i)}y^{(i)}x^{(i)} $$ <br> $$ b^{*} = -\\frac{\\underset{y^{(i)} = -1}{max} w^{*T} x^{(i)} + \\underset{y^{(i)} = +1}{min} w^{*T} x^{(i)} }{2} $$\n",
    "    * $\\alpha^{(i)}$s are the **Lagrange multipliers**\n",
    "* The linear SVM classifier is the function: $$ f_{w,b}(z) = sign\\left(\\sum_i\\alpha^{(i)} y^{(i)}x^{(i)T} z + b\\right) $$"
   ]
  },
  {
   "cell_type": "markdown",
   "metadata": {
    "slideshow": {
     "slide_type": "slide"
    }
   },
   "source": [
    "### <img src=\"https://img.icons8.com/dusk/64/000000/user.png\" style=\"height:50px;display:inline\"> Characteristics of The Solution\n",
    "---\n",
    "* Many of the $\\alpha_i$ are zero.\n",
    "    * $w$ is a linear combination of a small number of data points\n",
    "        * This is *sparse* representation - a good solution (that generalizes well) is sparse.\n",
    "* $x_i$ with non-zero $\\alpha_i$ are called **support vectors** (SV)\n",
    "    * The decision boundary is determined **only** by the SV\n",
    "    * Denoting $\\{t_j \\}_{j=1}^s$ to be the indices of the $s$ support vectors, we get: $$ w = \\sum_{j=1}^s\\alpha_{t_j}y_{t_j}x_{t_j} $$\n",
    "    \n",
    "* Predicting a new instance $z$:\n",
    "    * Compute $f_{w,b} = sign\\big((\\sum_{j=1}^s\\alpha_{t_j}y_{t_j}x_{t_j})^Tz +b \\big)$\n",
    "* Note that $w$ depends on the number of **support vectors** rather than the **dimension**"
   ]
  },
  {
   "cell_type": "markdown",
   "metadata": {
    "slideshow": {
     "slide_type": "subslide"
    }
   },
   "source": [
    "A Geometrical Interpretation: <img src=\"./assets/tut_11_geom.jpg\" style=\"height:300px\">"
   ]
  },
  {
   "cell_type": "markdown",
   "metadata": {
    "slideshow": {
     "slide_type": "slide"
    }
   },
   "source": [
    "### <img src=\"https://img.icons8.com/dusk/64/000000/jam.png\" style=\"height:50px;display:inline\"> Soft Margin Classification - Soft SVM - The Linearly Inseparable Case\n",
    "---\n",
    "* There are two main issues with *hard margin classification*:\n",
    "    1. It only works when the data is **linearly separable**\n",
    "        * Not all data sets are linearly separable\n",
    "    2. It is highly sensitive to **outliers**\n",
    "* To avoid these issues we can use a more flexible model, where the objective is to find a good balance between keeping the margin as large as possible and limiting the margin violations (instances that end up in the middle of the margin or even on the other side)."
   ]
  },
  {
   "cell_type": "markdown",
   "metadata": {
    "slideshow": {
     "slide_type": "subslide"
    }
   },
   "source": [
    "#### The way to do it - we can allow some violation and also add penalization - we introduce **slack variables**\n",
    "\n",
    "* Slack variable $\\xi^{(i)}$ - measures how much the $i^{th}$ instance is allowed to *violate* the margin.\n",
    "    * $\\sum_i\\xi^{(i)}$ approximates the the \"magnitude\" of the margin violations\n",
    "* We now have two conflicting objectives: making the slack variables as small as possible to reduce violations while making $\\frac{1}{2}w^Tw$ as small as possible to increase the margin.\n",
    "* To balance this trade-off we introduce the **hinge loss** function which is a convex *upper bound* to the 0-1 loss (counts the the number of misclassifications, **non-convex** and hard to optimize): $$ \\xi^{(i)} = (1 - y^{(i)}[w^Tx + b])_{+} = \\max(0, 1 - y^{(i)}[w^Tx + b]) $$"
   ]
  },
  {
   "cell_type": "markdown",
   "metadata": {
    "slideshow": {
     "slide_type": "subslide"
    }
   },
   "source": [
    "<img src=\"./assets/tut_11_hinge.jpg\" style=\"height:200px\">"
   ]
  },
  {
   "cell_type": "markdown",
   "metadata": {
    "slideshow": {
     "slide_type": "subslide"
    }
   },
   "source": [
    "* To choose the best balance between the objectives we also introduce the $C$ hyper-parameter ($\\frac{1}{C}$ can be thought of as a regularization hyper-parameter, we will shortly see how).\n",
    "* The decision boundary can be found by solving the following *quadratic constrained optimization* problem (also **soft margin linear SVM classifier objective**): $$ \\underset{w, b, \\xi}{\\text{minimize}} \\text{   } \\frac{1}{2} w^Tw + C \\sum_{i=1}^m\\xi^{(i)} $$ $$ \\text{subject to } y^{(i)}\\big( w^Tx^{(i)} +b \\big) \\geq 1 - \\xi^{(i)}, \\xi^{(i)} \\geq 0, \\text{ for } i = 1,...,m $$"
   ]
  },
  {
   "cell_type": "markdown",
   "metadata": {
    "slideshow": {
     "slide_type": "subslide"
    }
   },
   "source": [
    "* **The solution** is similar: $$ w^{*} = \\sum_{i=1}^n \\alpha^{(i)}y^{(i)}x^{(i)} $$\n",
    "* Except that now there is an upper bound $C$ on the $\\alpha$'s:\n",
    "    * Support Vectors (on the margin): $0 \\leq \\alpha \\leq C$\n",
    "    * Bounded Support Vectors (**Outliers**): $\\alpha = C$"
   ]
  },
  {
   "cell_type": "markdown",
   "metadata": {
    "slideshow": {
     "slide_type": "subslide"
    }
   },
   "source": [
    "<img src=\"./assets/tut_11_slack.jpg\" style=\"height:200px\">"
   ]
  },
  {
   "cell_type": "markdown",
   "metadata": {
    "slideshow": {
     "slide_type": "slide"
    }
   },
   "source": [
    "### <img src=\"https://img.icons8.com/dusk/64/000000/vertical-settings-mixer.png\" style=\"height:50px;display:inline\"> Tuning the C Hyper-Parameter\n",
    "---\n",
    "* The hyper-parameter $C$ balances between the *Hinge Loss* (violation penalty) and the regularization term since: $$ \\text{Minimize } ||w||^2 + C\\cdot (\\#\\text{train losses}) = \\text{Minimize } C \\cdot( \\frac{1}{C}||w||^2 + (\\#\\text{train losses})) = \\text{Minimize } (\\#\\text{train losses}) + \\frac{1}{C} ||w||^2 $$\n",
    "    * A **smaller** $C$ means larger margin $\\to$ lower model complexity\n",
    "    * A **larger** $C$ means less tolerance to violations, but may lead to overfitting\n",
    "        * As $C \\to \\infty$ we get closer to the **hard-margin** solution"
   ]
  },
  {
   "cell_type": "markdown",
   "metadata": {
    "slideshow": {
     "slide_type": "subslide"
    }
   },
   "source": [
    "* In practice, the objective value is not too sensitive to the exact value of $C$.\n",
    "    * Start with $C=1$ as the \"break-even-point\"\n",
    "    * Move up in two steps: $C=10, C=100$\n",
    "    * Move down in two steps: $C=0.1, C=0.01$"
   ]
  },
  {
   "cell_type": "markdown",
   "metadata": {
    "slideshow": {
     "slide_type": "subslide"
    }
   },
   "source": [
    "<img src=\"./assets/tut_11_tuning_c_linear.gif\" style=\"height:300px\">\n",
    "\n",
    "<a href=\"https://sandipanweb.wordpress.com/2018/04/23/implementing-a-soft-margin-kernelized-support-vector-machine-binary-classifier-with-quadratic-programming-in-r-and-python/\"> Image Source</a>\n",
    "    \n",
    "* Note: Unlike Logistic Regression, **SVM classifiers do not output probabilities for each class**."
   ]
  },
  {
   "cell_type": "markdown",
   "metadata": {
    "slideshow": {
     "slide_type": "slide"
    }
   },
   "source": [
    "## <img src=\"https://img.icons8.com/office/80/000000/virus.png\" style=\"height:50px;display:inline\"> Linear SVM Example\n",
    "We will demonstrate on the Breast Cancer Dataset."
   ]
  },
  {
   "cell_type": "code",
   "execution_count": 2,
   "metadata": {
    "scrolled": false,
    "slideshow": {
     "slide_type": "skip"
    }
   },
   "outputs": [
    {
     "data": {
      "text/html": [
       "<div>\n",
       "<style scoped>\n",
       "    .dataframe tbody tr th:only-of-type {\n",
       "        vertical-align: middle;\n",
       "    }\n",
       "\n",
       "    .dataframe tbody tr th {\n",
       "        vertical-align: top;\n",
       "    }\n",
       "\n",
       "    .dataframe thead th {\n",
       "        text-align: right;\n",
       "    }\n",
       "</style>\n",
       "<table border=\"1\" class=\"dataframe\">\n",
       "  <thead>\n",
       "    <tr style=\"text-align: right;\">\n",
       "      <th></th>\n",
       "      <th>id</th>\n",
       "      <th>diagnosis</th>\n",
       "      <th>radius_mean</th>\n",
       "      <th>texture_mean</th>\n",
       "      <th>perimeter_mean</th>\n",
       "      <th>area_mean</th>\n",
       "      <th>smoothness_mean</th>\n",
       "      <th>compactness_mean</th>\n",
       "      <th>concavity_mean</th>\n",
       "      <th>concave points_mean</th>\n",
       "      <th>...</th>\n",
       "      <th>texture_worst</th>\n",
       "      <th>perimeter_worst</th>\n",
       "      <th>area_worst</th>\n",
       "      <th>smoothness_worst</th>\n",
       "      <th>compactness_worst</th>\n",
       "      <th>concavity_worst</th>\n",
       "      <th>concave points_worst</th>\n",
       "      <th>symmetry_worst</th>\n",
       "      <th>fractal_dimension_worst</th>\n",
       "      <th>Unnamed: 32</th>\n",
       "    </tr>\n",
       "  </thead>\n",
       "  <tbody>\n",
       "    <tr>\n",
       "      <td>550</td>\n",
       "      <td>923748</td>\n",
       "      <td>B</td>\n",
       "      <td>10.86</td>\n",
       "      <td>21.48</td>\n",
       "      <td>68.51</td>\n",
       "      <td>360.5</td>\n",
       "      <td>0.07431</td>\n",
       "      <td>0.04227</td>\n",
       "      <td>0.000000</td>\n",
       "      <td>0.00000</td>\n",
       "      <td>...</td>\n",
       "      <td>24.77</td>\n",
       "      <td>74.08</td>\n",
       "      <td>412.3</td>\n",
       "      <td>0.10010</td>\n",
       "      <td>0.07348</td>\n",
       "      <td>0.00000</td>\n",
       "      <td>0.00000</td>\n",
       "      <td>0.2458</td>\n",
       "      <td>0.06592</td>\n",
       "      <td>NaN</td>\n",
       "    </tr>\n",
       "    <tr>\n",
       "      <td>435</td>\n",
       "      <td>908489</td>\n",
       "      <td>M</td>\n",
       "      <td>13.98</td>\n",
       "      <td>19.62</td>\n",
       "      <td>91.12</td>\n",
       "      <td>599.5</td>\n",
       "      <td>0.10600</td>\n",
       "      <td>0.11330</td>\n",
       "      <td>0.112600</td>\n",
       "      <td>0.06463</td>\n",
       "      <td>...</td>\n",
       "      <td>30.80</td>\n",
       "      <td>113.90</td>\n",
       "      <td>869.3</td>\n",
       "      <td>0.16130</td>\n",
       "      <td>0.35680</td>\n",
       "      <td>0.40690</td>\n",
       "      <td>0.18270</td>\n",
       "      <td>0.3179</td>\n",
       "      <td>0.10550</td>\n",
       "      <td>NaN</td>\n",
       "    </tr>\n",
       "    <tr>\n",
       "      <td>326</td>\n",
       "      <td>89524</td>\n",
       "      <td>B</td>\n",
       "      <td>14.11</td>\n",
       "      <td>12.88</td>\n",
       "      <td>90.03</td>\n",
       "      <td>616.5</td>\n",
       "      <td>0.09309</td>\n",
       "      <td>0.05306</td>\n",
       "      <td>0.017650</td>\n",
       "      <td>0.02733</td>\n",
       "      <td>...</td>\n",
       "      <td>18.00</td>\n",
       "      <td>98.40</td>\n",
       "      <td>749.9</td>\n",
       "      <td>0.12810</td>\n",
       "      <td>0.11090</td>\n",
       "      <td>0.05307</td>\n",
       "      <td>0.05890</td>\n",
       "      <td>0.2100</td>\n",
       "      <td>0.07083</td>\n",
       "      <td>NaN</td>\n",
       "    </tr>\n",
       "    <tr>\n",
       "      <td>77</td>\n",
       "      <td>8610637</td>\n",
       "      <td>M</td>\n",
       "      <td>18.05</td>\n",
       "      <td>16.15</td>\n",
       "      <td>120.20</td>\n",
       "      <td>1006.0</td>\n",
       "      <td>0.10650</td>\n",
       "      <td>0.21460</td>\n",
       "      <td>0.168400</td>\n",
       "      <td>0.10800</td>\n",
       "      <td>...</td>\n",
       "      <td>18.91</td>\n",
       "      <td>150.10</td>\n",
       "      <td>1610.0</td>\n",
       "      <td>0.14780</td>\n",
       "      <td>0.56340</td>\n",
       "      <td>0.37860</td>\n",
       "      <td>0.21020</td>\n",
       "      <td>0.3751</td>\n",
       "      <td>0.11080</td>\n",
       "      <td>NaN</td>\n",
       "    </tr>\n",
       "    <tr>\n",
       "      <td>96</td>\n",
       "      <td>86211</td>\n",
       "      <td>B</td>\n",
       "      <td>12.18</td>\n",
       "      <td>17.84</td>\n",
       "      <td>77.79</td>\n",
       "      <td>451.1</td>\n",
       "      <td>0.10450</td>\n",
       "      <td>0.07057</td>\n",
       "      <td>0.024900</td>\n",
       "      <td>0.02941</td>\n",
       "      <td>...</td>\n",
       "      <td>20.92</td>\n",
       "      <td>82.14</td>\n",
       "      <td>495.2</td>\n",
       "      <td>0.11400</td>\n",
       "      <td>0.09358</td>\n",
       "      <td>0.04980</td>\n",
       "      <td>0.05882</td>\n",
       "      <td>0.2227</td>\n",
       "      <td>0.07376</td>\n",
       "      <td>NaN</td>\n",
       "    </tr>\n",
       "    <tr>\n",
       "      <td>226</td>\n",
       "      <td>88147101</td>\n",
       "      <td>B</td>\n",
       "      <td>10.44</td>\n",
       "      <td>15.46</td>\n",
       "      <td>66.62</td>\n",
       "      <td>329.6</td>\n",
       "      <td>0.10530</td>\n",
       "      <td>0.07722</td>\n",
       "      <td>0.006643</td>\n",
       "      <td>0.01216</td>\n",
       "      <td>...</td>\n",
       "      <td>19.80</td>\n",
       "      <td>73.47</td>\n",
       "      <td>395.4</td>\n",
       "      <td>0.13410</td>\n",
       "      <td>0.11530</td>\n",
       "      <td>0.02639</td>\n",
       "      <td>0.04464</td>\n",
       "      <td>0.2615</td>\n",
       "      <td>0.08269</td>\n",
       "      <td>NaN</td>\n",
       "    </tr>\n",
       "    <tr>\n",
       "      <td>489</td>\n",
       "      <td>913535</td>\n",
       "      <td>M</td>\n",
       "      <td>16.69</td>\n",
       "      <td>20.20</td>\n",
       "      <td>107.10</td>\n",
       "      <td>857.6</td>\n",
       "      <td>0.07497</td>\n",
       "      <td>0.07112</td>\n",
       "      <td>0.036490</td>\n",
       "      <td>0.02307</td>\n",
       "      <td>...</td>\n",
       "      <td>26.56</td>\n",
       "      <td>127.30</td>\n",
       "      <td>1084.0</td>\n",
       "      <td>0.10090</td>\n",
       "      <td>0.29200</td>\n",
       "      <td>0.24770</td>\n",
       "      <td>0.08737</td>\n",
       "      <td>0.4677</td>\n",
       "      <td>0.07623</td>\n",
       "      <td>NaN</td>\n",
       "    </tr>\n",
       "    <tr>\n",
       "      <td>191</td>\n",
       "      <td>875093</td>\n",
       "      <td>B</td>\n",
       "      <td>12.77</td>\n",
       "      <td>21.41</td>\n",
       "      <td>82.02</td>\n",
       "      <td>507.4</td>\n",
       "      <td>0.08749</td>\n",
       "      <td>0.06601</td>\n",
       "      <td>0.031120</td>\n",
       "      <td>0.02864</td>\n",
       "      <td>...</td>\n",
       "      <td>23.50</td>\n",
       "      <td>89.04</td>\n",
       "      <td>579.5</td>\n",
       "      <td>0.09388</td>\n",
       "      <td>0.08978</td>\n",
       "      <td>0.05186</td>\n",
       "      <td>0.04773</td>\n",
       "      <td>0.2179</td>\n",
       "      <td>0.06871</td>\n",
       "      <td>NaN</td>\n",
       "    </tr>\n",
       "    <tr>\n",
       "      <td>12</td>\n",
       "      <td>846226</td>\n",
       "      <td>M</td>\n",
       "      <td>19.17</td>\n",
       "      <td>24.80</td>\n",
       "      <td>132.40</td>\n",
       "      <td>1123.0</td>\n",
       "      <td>0.09740</td>\n",
       "      <td>0.24580</td>\n",
       "      <td>0.206500</td>\n",
       "      <td>0.11180</td>\n",
       "      <td>...</td>\n",
       "      <td>29.94</td>\n",
       "      <td>151.70</td>\n",
       "      <td>1332.0</td>\n",
       "      <td>0.10370</td>\n",
       "      <td>0.39030</td>\n",
       "      <td>0.36390</td>\n",
       "      <td>0.17670</td>\n",
       "      <td>0.3176</td>\n",
       "      <td>0.10230</td>\n",
       "      <td>NaN</td>\n",
       "    </tr>\n",
       "    <tr>\n",
       "      <td>397</td>\n",
       "      <td>90401602</td>\n",
       "      <td>B</td>\n",
       "      <td>12.80</td>\n",
       "      <td>17.46</td>\n",
       "      <td>83.05</td>\n",
       "      <td>508.3</td>\n",
       "      <td>0.08044</td>\n",
       "      <td>0.08895</td>\n",
       "      <td>0.073900</td>\n",
       "      <td>0.04083</td>\n",
       "      <td>...</td>\n",
       "      <td>21.06</td>\n",
       "      <td>90.72</td>\n",
       "      <td>591.0</td>\n",
       "      <td>0.09534</td>\n",
       "      <td>0.18120</td>\n",
       "      <td>0.19010</td>\n",
       "      <td>0.08296</td>\n",
       "      <td>0.1988</td>\n",
       "      <td>0.07053</td>\n",
       "      <td>NaN</td>\n",
       "    </tr>\n",
       "  </tbody>\n",
       "</table>\n",
       "<p>10 rows × 33 columns</p>\n",
       "</div>"
      ],
      "text/plain": [
       "           id diagnosis  radius_mean  texture_mean  perimeter_mean  area_mean  \\\n",
       "550    923748         B        10.86         21.48           68.51      360.5   \n",
       "435    908489         M        13.98         19.62           91.12      599.5   \n",
       "326     89524         B        14.11         12.88           90.03      616.5   \n",
       "77    8610637         M        18.05         16.15          120.20     1006.0   \n",
       "96      86211         B        12.18         17.84           77.79      451.1   \n",
       "226  88147101         B        10.44         15.46           66.62      329.6   \n",
       "489    913535         M        16.69         20.20          107.10      857.6   \n",
       "191    875093         B        12.77         21.41           82.02      507.4   \n",
       "12     846226         M        19.17         24.80          132.40     1123.0   \n",
       "397  90401602         B        12.80         17.46           83.05      508.3   \n",
       "\n",
       "     smoothness_mean  compactness_mean  concavity_mean  concave points_mean  \\\n",
       "550          0.07431           0.04227        0.000000              0.00000   \n",
       "435          0.10600           0.11330        0.112600              0.06463   \n",
       "326          0.09309           0.05306        0.017650              0.02733   \n",
       "77           0.10650           0.21460        0.168400              0.10800   \n",
       "96           0.10450           0.07057        0.024900              0.02941   \n",
       "226          0.10530           0.07722        0.006643              0.01216   \n",
       "489          0.07497           0.07112        0.036490              0.02307   \n",
       "191          0.08749           0.06601        0.031120              0.02864   \n",
       "12           0.09740           0.24580        0.206500              0.11180   \n",
       "397          0.08044           0.08895        0.073900              0.04083   \n",
       "\n",
       "     ...  texture_worst  perimeter_worst  area_worst  smoothness_worst  \\\n",
       "550  ...          24.77            74.08       412.3           0.10010   \n",
       "435  ...          30.80           113.90       869.3           0.16130   \n",
       "326  ...          18.00            98.40       749.9           0.12810   \n",
       "77   ...          18.91           150.10      1610.0           0.14780   \n",
       "96   ...          20.92            82.14       495.2           0.11400   \n",
       "226  ...          19.80            73.47       395.4           0.13410   \n",
       "489  ...          26.56           127.30      1084.0           0.10090   \n",
       "191  ...          23.50            89.04       579.5           0.09388   \n",
       "12   ...          29.94           151.70      1332.0           0.10370   \n",
       "397  ...          21.06            90.72       591.0           0.09534   \n",
       "\n",
       "     compactness_worst  concavity_worst  concave points_worst  symmetry_worst  \\\n",
       "550            0.07348          0.00000               0.00000          0.2458   \n",
       "435            0.35680          0.40690               0.18270          0.3179   \n",
       "326            0.11090          0.05307               0.05890          0.2100   \n",
       "77             0.56340          0.37860               0.21020          0.3751   \n",
       "96             0.09358          0.04980               0.05882          0.2227   \n",
       "226            0.11530          0.02639               0.04464          0.2615   \n",
       "489            0.29200          0.24770               0.08737          0.4677   \n",
       "191            0.08978          0.05186               0.04773          0.2179   \n",
       "12             0.39030          0.36390               0.17670          0.3176   \n",
       "397            0.18120          0.19010               0.08296          0.1988   \n",
       "\n",
       "     fractal_dimension_worst  Unnamed: 32  \n",
       "550                  0.06592          NaN  \n",
       "435                  0.10550          NaN  \n",
       "326                  0.07083          NaN  \n",
       "77                   0.11080          NaN  \n",
       "96                   0.07376          NaN  \n",
       "226                  0.08269          NaN  \n",
       "489                  0.07623          NaN  \n",
       "191                  0.06871          NaN  \n",
       "12                   0.10230          NaN  \n",
       "397                  0.07053          NaN  \n",
       "\n",
       "[10 rows x 33 columns]"
      ]
     },
     "execution_count": 2,
     "metadata": {},
     "output_type": "execute_result"
    }
   ],
   "source": [
    "# let's load the cancer dataset, shuffle it and  speratre into train and test set\n",
    "dataset = pd.read_csv('./datasets/cancer_dataset.csv')\n",
    "# print the number of rows in the data set\n",
    "number_of_rows = len(dataset)\n",
    "num_train = int(0.8 * number_of_rows)\n",
    "# reminder, the data looks like this\n",
    "dataset.sample(10)"
   ]
  },
  {
   "cell_type": "code",
   "execution_count": 3,
   "metadata": {
    "slideshow": {
     "slide_type": "subslide"
    }
   },
   "outputs": [],
   "source": [
    "# we will take the first 2 features as our data (X) and the diagnosis as labels (y)\n",
    "x = dataset[['radius_mean', 'texture_mean']].values\n",
    "y = dataset['diagnosis'].values == 'M'  # 1 for Malignat, 0 for Benign\n",
    "# shuffle\n",
    "rand_gen = np.random.RandomState(0)\n",
    "shuffled_indices = rand_gen.permutation(np.arange(len(x)))"
   ]
  },
  {
   "cell_type": "code",
   "execution_count": 4,
   "metadata": {
    "slideshow": {
     "slide_type": "subslide"
    }
   },
   "outputs": [],
   "source": [
    "x_train = x[shuffled_indices[:num_train]]\n",
    "y_train = y[shuffled_indices[:num_train]]\n",
    "x_test = x[shuffled_indices[num_train:]]\n",
    "y_test = y[shuffled_indices[num_train:]]"
   ]
  },
  {
   "cell_type": "code",
   "execution_count": 5,
   "metadata": {
    "slideshow": {
     "slide_type": "subslide"
    }
   },
   "outputs": [
    {
     "name": "stdout",
     "output_type": "stream",
     "text": [
      "total training samples: 455, total test samples: 114\n"
     ]
    }
   ],
   "source": [
    "# pre-process - standartization\n",
    "scaler = StandardScaler()\n",
    "scaler.fit(x_train)\n",
    "x_train = scaler.transform(x_train)\n",
    "x_test = scaler.transform(x_test)\n",
    "\n",
    "print(\"total training samples: {}, total test samples: {}\".format(num_train, number_of_rows - num_train))"
   ]
  },
  {
   "cell_type": "code",
   "execution_count": 6,
   "metadata": {
    "slideshow": {
     "slide_type": "skip"
    }
   },
   "outputs": [],
   "source": [
    "def plot_trainset(x_train, y_train):\n",
    "    fig = plt.figure(figsize=(5, 5))\n",
    "    ax = fig.add_subplot(1,1,1)\n",
    "    ax.scatter(x_train[y_train,0], x_train[y_train, 1], color='r', label=\"M\")\n",
    "    ax.scatter(x_train[~y_train,0], x_train[~y_train, 1], color='b', label=\"B\")\n",
    "    ax.legend()\n",
    "    ax.grid()\n",
    "    ax.set_xlabel(\"radius_mean\")\n",
    "    ax.set_ylabel(\"texture_mean\")\n",
    "    ax.set_title(\"texture_mean vs. radius_mean\")"
   ]
  },
  {
   "cell_type": "code",
   "execution_count": 7,
   "metadata": {
    "slideshow": {
     "slide_type": "subslide"
    }
   },
   "outputs": [
    {
     "data": {
      "image/png": "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\n",
      "text/plain": [
       "<Figure size 360x360 with 1 Axes>"
      ]
     },
     "metadata": {
      "needs_background": "light"
     },
     "output_type": "display_data"
    }
   ],
   "source": [
    "# let's see it\n",
    "plot_trainset(x_train, y_train)"
   ]
  },
  {
   "cell_type": "code",
   "execution_count": 16,
   "metadata": {
    "slideshow": {
     "slide_type": "skip"
    }
   },
   "outputs": [],
   "source": [
    "from warnings import filterwarnings\n",
    "filterwarnings('ignore')"
   ]
  },
  {
   "cell_type": "code",
   "execution_count": 18,
   "metadata": {
    "slideshow": {
     "slide_type": "subslide"
    }
   },
   "outputs": [],
   "source": [
    "# linear SVM using Scikit-Learn\n",
    "# let's create several classifiers with different C's\n",
    "svm_clf_1 = LinearSVC(C=1, loss=\"hinge\", random_state=42)\n",
    "svm_clf_10 = LinearSVC(C=10, loss=\"hinge\", random_state=42)\n",
    "svm_clf_100 = LinearSVC(C=100, loss=\"hinge\", random_state=42)\n",
    "svm_clf_1000 = LinearSVC(C=1000, loss=\"hinge\", random_state=42)"
   ]
  },
  {
   "cell_type": "code",
   "execution_count": 19,
   "metadata": {
    "slideshow": {
     "slide_type": "subslide"
    }
   },
   "outputs": [
    {
     "data": {
      "text/plain": [
       "LinearSVC(C=1000, class_weight=None, dual=True, fit_intercept=True,\n",
       "          intercept_scaling=1, loss='hinge', max_iter=1000, multi_class='ovr',\n",
       "          penalty='l2', random_state=42, tol=0.0001, verbose=0)"
      ]
     },
     "execution_count": 19,
     "metadata": {},
     "output_type": "execute_result"
    }
   ],
   "source": [
    "# fit (train)\n",
    "svm_clf_1.fit(x_train, y_train)\n",
    "svm_clf_10.fit(x_train, y_train)\n",
    "svm_clf_100.fit(x_train, y_train)\n",
    "svm_clf_1000.fit(x_train, y_train)"
   ]
  },
  {
   "cell_type": "code",
   "execution_count": 20,
   "metadata": {
    "slideshow": {
     "slide_type": "subslide"
    }
   },
   "outputs": [],
   "source": [
    "# predict\n",
    "y_pred_1 = svm_clf_1.predict(x_test)\n",
    "y_pred_10 = svm_clf_10.predict(x_test)\n",
    "y_pred_100 = svm_clf_100.predict(x_test)\n",
    "y_pred_1000 = svm_clf_1000.predict(x_test)"
   ]
  },
  {
   "cell_type": "code",
   "execution_count": 21,
   "metadata": {
    "slideshow": {
     "slide_type": "subslide"
    }
   },
   "outputs": [],
   "source": [
    "# calculate accuracy\n",
    "accuracy_1 = np.sum(y_pred_1 == y_test) / len(y_test)\n",
    "accuracy_10 = np.sum(y_pred_10 == y_test) / len(y_test)\n",
    "accuracy_100 = np.sum(y_pred_100 == y_test) / len(y_test)\n",
    "accuracy_1000 = np.sum(y_pred_1000 == y_test) / len(y_test)"
   ]
  },
  {
   "cell_type": "code",
   "execution_count": 22,
   "metadata": {
    "slideshow": {
     "slide_type": "subslide"
    }
   },
   "outputs": [
    {
     "name": "stdout",
     "output_type": "stream",
     "text": [
      "svm C=1 accuracy: 90.351 %\n",
      "svm C=10 accuracy: 89.474 %\n",
      "svm C=100 accuracy: 91.228 %\n",
      "svm C=1000 accuracy: 92.105 %\n"
     ]
    }
   ],
   "source": [
    "print(\"svm C=1 accuracy: {:.3f} %\".format(accuracy_1 * 100))\n",
    "print(\"svm C=10 accuracy: {:.3f} %\".format(accuracy_10 * 100))\n",
    "print(\"svm C=100 accuracy: {:.3f} %\".format(accuracy_100 * 100))\n",
    "print(\"svm C=1000 accuracy: {:.3f} %\".format(accuracy_1000 * 100))"
   ]
  },
  {
   "cell_type": "code",
   "execution_count": 23,
   "metadata": {
    "slideshow": {
     "slide_type": "subslide"
    }
   },
   "outputs": [],
   "source": [
    "# Let's see the boundary\n",
    "w = (svm_clf_100.coef_).reshape(-1,)\n",
    "b = (svm_clf_100.intercept_).reshape(-1,)\n",
    "boundary = (-b - w[0] * x_train[:, 0]) / w[1]\n",
    "\n",
    "w_10 = (svm_clf_10.coef_).reshape(-1,)\n",
    "b_10 = (svm_clf_10.intercept_).reshape(-1,)\n",
    "boundary_10 = (-b_10 - w_10[0] * x_train[:, 0]) / w_10[1]\n",
    "\n",
    "w_1000 = (svm_clf_1000.coef_).reshape(-1,)\n",
    "b_1000 = (svm_clf_1000.intercept_).reshape(-1,)\n",
    "boundary_1000 = (-b_1000 - w_1000[0] * x_train[:, 0]) / w_1000[1] "
   ]
  },
  {
   "cell_type": "code",
   "execution_count": 24,
   "metadata": {
    "slideshow": {
     "slide_type": "skip"
    }
   },
   "outputs": [],
   "source": [
    "def plot_svm_boundary():\n",
    "    fig = plt.figure(figsize=(10, 8))\n",
    "    ax = fig.add_subplot(1,1,1)\n",
    "    ax.scatter(x_train[y_train,0], x_train[y_train, 1], color='r', label=\"M, train\", alpha=0.5)\n",
    "    ax.scatter(x_train[~y_train,0], x_train[~y_train, 1], color='b', label=\"B, train\", alpha=0.5)\n",
    "    ax.scatter(x_test[y_test,0], x_test[y_test, 1], color='r', label=\"M, test\", alpha=1)\n",
    "    ax.scatter(x_test[~y_test,0], x_test[~y_test, 1], color='b', label=\"B, test\", alpha=1)\n",
    "    ax.plot(x_train[:,0], boundary_10, label=\"SVM decision boundary C=10\", color='m')\n",
    "    ax.plot(x_train[:,0], boundary, label=\"SVM decision boundary C=100\", color='g')\n",
    "    ax.plot(x_train[:,0], boundary_1000, label=\"SVM decision boundary C=1000\", color='y')\n",
    "    ax.legend()\n",
    "    ax.grid()\n",
    "    ax.set_ylim([-4, 4])\n",
    "    ax.set_xlabel(\"radius_mean\")\n",
    "    ax.set_ylabel(\"texture_mean\")\n",
    "    ax.set_title(\"texture_mean vs. radius_mean\")"
   ]
  },
  {
   "cell_type": "code",
   "execution_count": 25,
   "metadata": {
    "slideshow": {
     "slide_type": "subslide"
    }
   },
   "outputs": [
    {
     "data": {
      "image/png": "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\n",
      "text/plain": [
       "<Figure size 720x576 with 1 Axes>"
      ]
     },
     "metadata": {
      "needs_background": "light"
     },
     "output_type": "display_data"
    }
   ],
   "source": [
    "plot_svm_boundary()"
   ]
  },
  {
   "cell_type": "markdown",
   "metadata": {
    "slideshow": {
     "slide_type": "slide"
    }
   },
   "source": [
    "## <img src=\"https://img.icons8.com/dusk/64/000000/toggle-on.png\" style=\"height:50px;display:inline\"> The Dual Problem\n",
    "---\n",
    "* The constrained optimization problem we solved is called *the primal problem*. It is possible to express a different but closely related problem called ***the dual problem***.\n",
    "* The solution to the dual problem is usually a lower bound to the solution of the primal problem, but under some conditions, the solution is the same. This is the case for SVM! (as it meets these conditions).\n",
    "    * You can choose whether to solve the primal or the dual problem.\n",
    "    * As we will soon see, for nonlinear SVM with kernels, the dual problem formulation will come in handy."
   ]
  },
  {
   "cell_type": "markdown",
   "metadata": {
    "slideshow": {
     "slide_type": "subslide"
    }
   },
   "source": [
    "* Recap of the original problem: $$ \\underset{w, b}{\\text{minimize}} \\text{   } \\frac{1}{2}||w||^2 = \\frac{1}{2} w^Tw $$ $$ \\text{subject to } y^{(i)}\\big( w^Tx^{(i)} +b \\big) \\geq 1, \\text{ for } i = 1,...,m $$\n",
    "    * **The Lagrangian**: $$ \\mathcal{L} = \\frac{1}{2}w^Tw - \\sum_{i=1}^m \\alpha^{(i)} \\big(y^{(i)}(w^Tx^{(i)} + b) -1 \\big), \\alpha^{(i)} \\geq 0, \\text{ for } i=1,2,...,m $$\n",
    "        * Setting the gradient of $\\mathcal{L}$ w.r.t. $w, b$ to zero, we get: $$ w +\\sum_{i=1}^m \\alpha^{(i)}(-y^{(i)}) x^{(i)} = 0 \\rightarrow w = \\sum_{i=1}^m \\alpha^{(i)}y^{(i)} x^{(i)} $$ $$ \\sum_{i=1}^m \\alpha^{(i)} y^{(i)} = 0 $$"
   ]
  },
  {
   "cell_type": "markdown",
   "metadata": {
    "slideshow": {
     "slide_type": "subslide"
    }
   },
   "source": [
    "#### The Dual Problem\n",
    "\n",
    "* If we plug-in the solution for w in $\\mathcal{L}$, $w = \\sum_{i=1}^m \\alpha^{(i)}y^{(i)} x^{(i)} $ , we get: $$ \\mathcal{L} = \\frac{1}{2} \\sum_{i=1}^m \\big(\\alpha^{(i)}y^{(i)} x^{(i)}\\big)^T \\sum_{j=1}^m \\big(\\alpha^{(j)}y^{(j)} x^{(j)}\\big) +\\sum_{i=1}^m \\alpha^{(i)} \\big( 1 - y^{(i)}(\\sum_{j=1}^m\\alpha^{(j)}y^{(j)}(x^{(j)})^T x^{(i)} +b) \\big) = $$ $$ \\frac{1}{2}\\sum_{i=1}^m \\sum_{j=1}^m \\alpha^{(i)}\\alpha^{(j)} y^{(i)} y^{(j)} (x^{(i)})^Tx^{(j)} + \\sum_{i=1}^m \\alpha^{(i)} -\\sum_{i=1}^m \\sum_{j=1}^m \\alpha^{(i)}\\alpha^{(j)} y^{(i)} y^{(j)} (x^{(i)})^Tx^{(j)} - b \\sum_{i=1}^m \\alpha^{(i)} y^{(i)} = $$ $$ -\\frac{1}{2}\\sum_{i=1}^m \\sum_{j=1}^m \\alpha^{(i)}\\alpha^{(j)} y^{(i)} y^{(j)} (x^{(i)})^Tx^{(j)} + \\sum_{i=1}^m \\alpha^{(i)} $$\n",
    "    * Note that $\\sum_{i=1}^m \\alpha^{(i)}y^{(i)} = 0$ from the constraint (see the gradient of $\\mathcal{L}$ above)\n",
    "    * This is a function of $\\alpha^{(i)}$ only\n",
    "    * The objective of the dual problem needs to be **maximized**!\n",
    "        * Alternatively, we can **minimize** $-\\mathcal{L}$"
   ]
  },
  {
   "cell_type": "markdown",
   "metadata": {
    "slideshow": {
     "slide_type": "subslide"
    }
   },
   "source": [
    "* Formally, the dual problem formulation: $$ \\underset{\\alpha}{\\text{minimize}} \\text{   } \\frac{1}{2}\\sum_{i=1}^m \\sum_{j=1}^m \\alpha^{(i)}\\alpha^{(j)} y^{(i)} y^{(j)} (x^{(i)})^Tx^{(j)} - \\sum_{i=1}^m \\alpha^{(i)} $$ $$ \\text{subject to } \\sum_{i=1}^m \\alpha^{(i)} y^{(i)} =0,\\alpha^{(i)} \\geq 0, \\text{ for } i = 1,...,m $$\n",
    "    * This is a quadratic programming (QP) problem - a global maximum of $\\alpha^{(i)}$ can always be found.\n",
    "* With **soft-margin**:\n",
    "$$ \\underset{\\alpha}{\\text{minimize}} \\text{   } \\frac{1}{2}\\sum_{i=1}^m \\sum_{j=1}^m \\alpha^{(i)}\\alpha^{(j)} y^{(i)} y^{(j)} (x^{(i)})^Tx^{(j)} - \\sum_{i=1}^m \\alpha^{(i)} $$ $$ \\text{subject to } \\sum_{i=1}^m \\alpha^{(i)} y^{(i)} =0,0 \\leq\\alpha^{(i)} \\leq C, \\text{ for } i = 1,...,m $$"
   ]
  },
  {
   "cell_type": "markdown",
   "metadata": {
    "slideshow": {
     "slide_type": "subslide"
    }
   },
   "source": [
    "* **The Solution**: $$ w^{*} = \\sum_{i=1}^m \\alpha^{(i)}y^{(i)} x^{(i)} $$\n",
    "    * Computing the bias term $b$: once you find the optimal $\\alpha$, you can compute $w^{*}$ using the equation above. To compute $b^{*}$, you can use the fact that a **support vector must verify** $y^{(i)}(w^{*T}x^{(i)} + b^{*}) = 1$, so if the $k^{th}$ instance is a support vector ($\\alpha^{(k)} > 0$), you can use it to compute $b^{*} = y^{(k)} - w^{*T}x^{(k)}$. However, to get a more stabilized result, it is often prefered to compute the average over all the support vectors to get a more stable result: $$ b^{*} = \\frac{1}{n_s} \\sum_{i=1, \\alpha^{(i)} > 0}^m[y^{(i)} - w^{*T}x^{(i)}] $$\n",
    "        * $n_s$ is the number of support vectors"
   ]
  },
  {
   "cell_type": "markdown",
   "metadata": {
    "slideshow": {
     "slide_type": "subslide"
    }
   },
   "source": [
    "* Important Notes:\n",
    "    * The dual problem is **faster** to solve than the primal when the number of *training instances* is **smaller** than the *number of features*.\n",
    "        * In Scikit-Learn, the `dual=True/False`: \"dual : bool, (default=True) - select the algorithm to either solve the dual or primal optimization problem. Prefer `dual=False` when `n_samples > n_features`.\"\n",
    "    * The dual problem makes the **kernel trick** possible while the primal does not."
   ]
  },
  {
   "cell_type": "markdown",
   "metadata": {
    "slideshow": {
     "slide_type": "slide"
    }
   },
   "source": [
    "## <img src=\"https://img.icons8.com/dusk/64/000000/average-value.png\" style=\"height:50px;display:inline\"> Nonlinear SVM - Kernel SVM\n",
    "---\n",
    "* Linear SVMs are efficient and work quite well in many cases.\n",
    "* However, many problems are not linearly separable!\n",
    "    * One approach to handling nonlinear datasets is to add more feature (e.g. polynomial features), we may help transform the problem to be \"more linear\".\n",
    "* Consider the following example of linearly inseparatable 1-D set of exmaples and then extracting polynimial (second order) features:"
   ]
  },
  {
   "cell_type": "code",
   "execution_count": 26,
   "metadata": {
    "slideshow": {
     "slide_type": "skip"
    }
   },
   "outputs": [],
   "source": [
    "def plot_toy_example():\n",
    "    x_1 = np.random.randint(0,6, size=(3,))\n",
    "    x_2 = np.random.randint(8,14, size=(3,))\n",
    "    x_3 = np.random.randint(20,25, size=(3,))\n",
    "\n",
    "    x_1_p = x_1 ** 2\n",
    "    x_2_p = x_2 ** 2\n",
    "    x_3_p = x_3 ** 2\n",
    "\n",
    "    x_class = np.linspace(0, 30, 400)\n",
    "    y_class = 25 * x_class - 130\n",
    "\n",
    "    fig = plt.figure(figsize=(8,5))\n",
    "    ax_1 = fig.add_subplot(211)\n",
    "    ax_1.scatter(x_1, np.zeros_like(x_1), marker='*', color='b')\n",
    "    ax_1.scatter(x_2, np.zeros_like(x_2), marker='^', color='r')\n",
    "    ax_1.scatter(x_3, np.zeros_like(x_3), marker='*', color='b')\n",
    "    ax_1.grid()\n",
    "    ax_2 = fig.add_subplot(212)\n",
    "    ax_2.scatter(x_1, x_1_p, marker='*', color='b')\n",
    "    ax_2.scatter(x_2, x_2_p, marker='^', color='r')\n",
    "    ax_2.scatter(x_3, x_3_p, marker='*', color='b')\n",
    "    ax_2.plot(x_class, y_class)\n",
    "    ax_2.grid()"
   ]
  },
  {
   "cell_type": "code",
   "execution_count": 27,
   "metadata": {
    "slideshow": {
     "slide_type": "subslide"
    }
   },
   "outputs": [
    {
     "data": {
      "image/png": "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\n",
      "text/plain": [
       "<Figure size 576x360 with 2 Axes>"
      ]
     },
     "metadata": {
      "needs_background": "light"
     },
     "output_type": "display_data"
    }
   ],
   "source": [
    "plot_toy_example()"
   ]
  },
  {
   "cell_type": "markdown",
   "metadata": {
    "slideshow": {
     "slide_type": "subslide"
    }
   },
   "source": [
    "* Adding polynomial features is simple to implement and can work great with all sorts of ML algorithms.\n",
    "* At a **low polynomial** degree it cannot deal with more complex datasets.\n",
    "* At a **high polynomial** degree there are a lot of features, which makes the computation very slow.\n",
    "    * Computation in the feature space can be costly because it is high dimensional (even go to infinity).\n",
    "* **The Kernel Trick** comes to the rescue!\n",
    "    * It makes is possible to get the same result as if you added many features (even in high dimension), **without actually adding them**!\n",
    "        * So there is no computational disaster resulting from the large number of features"
   ]
  },
  {
   "cell_type": "markdown",
   "metadata": {
    "slideshow": {
     "slide_type": "slide"
    }
   },
   "source": [
    "## <img src=\"https://img.icons8.com/dusk/64/000000/fantasy.png\" style=\"height:50px;display:inline\"> The Kernel Trick\n",
    "---\n",
    "* Recall the **dual SVM problem** (soft-margin):  $$ \\underset{\\alpha}{\\text{maximize}} \\text{   } \\sum_{i=1}^m \\alpha^{(i)} - \\frac{1}{2}\\sum_{i=1}^m \\sum_{j=1}^m \\alpha^{(i)}\\alpha^{(j)} y^{(i)} y^{(j)} (x^{(i)})^Tx^{(j)} $$ $$ \\text{subject to } \\sum_{i=1}^m \\alpha^{(i)} y^{(i)} =0,0 \\leq\\alpha^{(i)} \\leq C, \\text{ for } i = 1,...,m $$\n",
    "* Notice that the **data points**, $\\{x^{(i)}\\}_{i=1}^m$, only appear as **inner (dot) products** - $(x^{(i)})^Tx^{(j)}$!\n",
    "* As long as we can calculate the inner product in the **feature space**, we don't need the mapping explicitly.\n",
    "    * The kernel function, denoted $K(x^{(i)}, x^{(j)}) = \\phi(x^{(i)})^T\\phi(x^{(j)})$, stands for the inner product in the feature space, and can easily plugged into the optimization.\n",
    "    * If we could find a function $K(x^{(i)}, x^{(j)})$ that is simple enough, we can actually save us the huge number of calculations required to calculate $\\phi(x^{(i)})^T\\phi(x^{(j)})$, or even prevent us from the feature extraction itself, $\\phi(x)$, this is the **kernel trick**."
   ]
  },
  {
   "cell_type": "markdown",
   "metadata": {
    "slideshow": {
     "slide_type": "slide"
    }
   },
   "source": [
    "### <img src=\"https://img.icons8.com/office/80/000000/cool.png\" style=\"height:50px;display:inline\"> The Kernel Trick - Polynomial Kernel Example\n",
    "---\n",
    "* We will now demonstrate the kernel trick for a $2^{nd}$-degree polynomial mapping\n",
    "* Suppose the feature mapping (or extraction) is defined as follows: $$ \\phi(u)=\\phi(\\begin{bmatrix} u_1 \\\\ u_2 \\end{bmatrix}) = \\begin{bmatrix} 1 \\\\ \\sqrt{2}u_1 \\\\ \\sqrt{2}u_2\\\\ \\sqrt{2}u_1u_2 \\\\ u_1^2 \\\\ u_2^2 \\end{bmatrix} $$"
   ]
  },
  {
   "cell_type": "markdown",
   "metadata": {
    "slideshow": {
     "slide_type": "subslide"
    }
   },
   "source": [
    "* The inner product $\\phi(u)^T\\phi(v)$: $$\\phi(u)^T\\phi(v) = 1 + 2u_1v_1 + 2u_2v_2 + 2u_1u_2v_1v_2 +u_1^2v_1^2 + u_2^2v_2^2 = (1 + u_1v_1 + u_2v_2)^2 = (1 + u^Tv)^2$$\n",
    "    * **HOW ABOUT THAT?** - We just found out that we can calculate $\\phi(u)^T\\phi(v)$ just by calculating the input inner product $u^Tv$ and plugging it in $(1 + u^Tv)^2$, thus saving us the whole feature mapping calculation process!\n",
    "* We define **the $2^{nd}$ polynomial kernel**: $$ K(u,v) = (1 + u^Tv)^2 $$\n",
    "    * No need to calculate $\\phi(u)^T\\phi(v)$ explicitly!\n",
    "    * The use of kernel function to avoid computing $\\phi(\\cdot)$ explicitly is known as **the kernel trick**"
   ]
  },
  {
   "cell_type": "markdown",
   "metadata": {
    "slideshow": {
     "slide_type": "slide"
    }
   },
   "source": [
    "### <img src=\"https://img.icons8.com/color/96/000000/transformer.png\" style=\"height:50px;display:inline\"> Other Kernel Functions\n",
    "---\n",
    "* Linear kernel: $$ K(u,v) = u^Tv $$\n",
    "* Polynomial kernel with degree $d$: $$ K(u,v) = (\\alpha u^Tv + \\beta)^d $$\n",
    "    * The feature space is all monomials up to degree $d$"
   ]
  },
  {
   "cell_type": "markdown",
   "metadata": {
    "slideshow": {
     "slide_type": "subslide"
    }
   },
   "source": [
    "* **Radial Basis Function** (Gaussian RBF) kernel with width $\\sigma$: $$ K(u,v) = e^{-\\frac{||u-v||^2}{2\\sigma^2}} = e^{-\\gamma|| u-v ||^2} = exp(-\\gamma|| u-v ||^2) $$\n",
    "    * It is also a type of a *similarity function* that measures *how far are two points?*\n",
    "    * RBF covers the space with \"balls\" of a fixed radius, where the centers are the SVs\n",
    "    * The radius of the \"balls\" is determined by the parameter $\\gamma = \\frac{1}{2\\sigma^2}$\n",
    "        * A **smaller** $\\gamma$ means a larger radius, a lower \"model complexity\"\n",
    "        * A **larger** $\\gamma$ means a smaller radius, a finer grain coverage which may possibly lead to overfitting.\n",
    "    * The feature space is **infinite-dimensional**\n",
    "    * <img src=\"./assets/tut_11_rbf_kernel.png\" style=\"height:200px\">\n",
    "\n",
    "\n",
    "<a href=\"https://chrisalbon.com/machine_learning/support_vector_machines/svc_parameters_using_rbf_kernel/\">Image Source</a>"
   ]
  },
  {
   "cell_type": "markdown",
   "metadata": {
    "slideshow": {
     "slide_type": "subslide"
    }
   },
   "source": [
    "* Sigmoid kernel, with parameters $\\kappa$ and $\\theta$: $$ K(u,v) = tanh(\\kappa u^Tv + \\theta) $$\n",
    "    * It does not satisfy the *Mercer* condition on all $\\kappa, \\theta$"
   ]
  },
  {
   "cell_type": "markdown",
   "metadata": {
    "slideshow": {
     "slide_type": "subslide"
    }
   },
   "source": [
    "#### Which Kernel to Choose?\n",
    "---\n",
    "* As a rule of thumb, you should always try the **linear kernel** first\n",
    "    * Especially if the training set is too large or has a lot of features\n",
    "    * In Scikit-Learn, `LinearSVC` is much faster than `SVC(kernel=\"linear\")`\n",
    "* If the training set is not too large, try **Gaussian RBF**.\n",
    "* If you are still not satisfied, you can try the others, possibly using cross-validation (and grid search for the best parameters)."
   ]
  },
  {
   "cell_type": "markdown",
   "metadata": {
    "slideshow": {
     "slide_type": "slide"
    }
   },
   "source": [
    "### <img src=\"https://img.icons8.com/dusk/96/000000/exercise.png\" style=\"height:50px;display:inline\"> Training and Predicting Using Kernel SVM\n",
    "---\n",
    "* Training SVMs require the values $K(x^{(i)}, x^{(j)}), \\forall i,j$\n",
    "    * Where $x^{(i)}, x^{(j)}$ are the $i^{th}, j^{th}$ examples (vectors in the input space)\n",
    "* There are no restrictions on the form of $x^{(i)}, x^{(j)}$, but there are restrictions on the kernel function $K(x^{(i)}, x^{(j)})$\n",
    "    * $K(x^{(i)}, x^{(j)})$ must satisfy the **Mercer Condition** - the $n \\times n$ kernel matrix $K(x^{(i)}, x^{(j)})$ is **positive definite**\n",
    "    * This implies that the quadratic optimization is convex\n",
    "        * It has a uniuqe solution and can be solved efficiently\n",
    "* When we apply the *kernel trick*, we end up with equations that include $\\phi(x^{(i)})$.\n",
    "    * We know that $w^{*}$ must have the same dimensions as $\\phi(x^{(i)})$, which may be huge or even infinite!"
   ]
  },
  {
   "cell_type": "markdown",
   "metadata": {
    "slideshow": {
     "slide_type": "subslide"
    }
   },
   "source": [
    "* Let's see how we can still train and make predictions, using the kernel trick again: $$ h_{w^{*}, b^{*}}(\\phi(x^{(n)}) = w^{*T} \\cdot \\phi\\big(x^{(n)} \\big) + b^{*} = \\bigg( \\sum_{i=1}^m \\alpha^{*(i)}y^{(i)}\\phi\\big(x^{(i)} \\big) \\bigg)^T \\cdot \\phi\\big(x^{(n)} \\big) + b^{*} $$ $$ = \\sum_{i=1}^m \\alpha^{*(i)}y^{(i)} \\bigg(\\phi\\big(x^{(i)}\\big)^T \\cdot \\phi\\big(x^{(n)} \\big) \\bigg) + b^{*}$$ $$ = \\sum_{i=1, \\alpha^{*(i)} > 0}^m \\alpha^{*(i)}y^{(i)} K\\big(x^{(i)}, x^{(n)}\\big) + b^{*} $$\n",
    "    * Since $\\alpha^{(i)} \\neq 0$ only for **support vectors**, making predictions involves computing the dot product of new input vectors with only the support vectors and not all of the training instances."
   ]
  },
  {
   "cell_type": "markdown",
   "metadata": {
    "slideshow": {
     "slide_type": "subslide"
    }
   },
   "source": [
    "* $b^{*}$ is also calculated in the same fashion: $$ b^{*} = \\frac{1}{n_s} \\sum_{i=1, \\alpha^{*(i)} > 0}^m \\bigg(1 - y^{(i)}w^{*T} \\cdot \\phi\\big(x^{(i)} \\big) \\bigg) = \\frac{1}{n_s} \\sum_{i=1, \\alpha^{*(i)} > 0}^m \\bigg(1 - y^{(i)}\\bigg(\\sum_{j=1, \\alpha^{*(i)} > 0}^m \\alpha^{*(j)}y^{(j)}\\phi\\big( x^{(j)} \\big) \\bigg)^{*T} \\cdot \\phi\\big(x^{(i)} \\big) \\bigg) $$ $$ = \\frac{1}{n_s} \\sum_{i=1, \\alpha^{*(i)} > 0}^m \\bigg(1 - y^{(i)}\\sum_{j=1, \\alpha^{*(i)} > 0}^m \\alpha^{*(j)}y^{(j)}K\\big( x^{(j)}, x^{(i)} \\big) \\bigg) $$"
   ]
  },
  {
   "cell_type": "markdown",
   "metadata": {
    "slideshow": {
     "slide_type": "subslide"
    }
   },
   "source": [
    "* The disadvantage of using Kernel SVM is the need to keep carrying the support vectors (cannot calculate $w$, need to keep the support vectors, the actual samples from the training set and their corresponding $\\alpha$)\n",
    "    * LinearSVM can be compressed to one feature vector, which is an advantage"
   ]
  },
  {
   "cell_type": "markdown",
   "metadata": {
    "slideshow": {
     "slide_type": "slide"
    }
   },
   "source": [
    "## <img src=\"https://img.icons8.com/office/80/000000/virus.png\" style=\"height:50px;display:inline\"> Nonlinear SVM - Kernel SVM Example\n",
    "---\n",
    "* For Polynomial - the hyper-parameter `coef0` controls how much the model is influenced by high degree polynomials vs low-degree polynomial."
   ]
  },
  {
   "cell_type": "code",
   "execution_count": 36,
   "metadata": {
    "slideshow": {
     "slide_type": "skip"
    }
   },
   "outputs": [],
   "source": [
    "# helper function to plot conturs\n",
    "# source: https://chrisalbon.com/machine_learning/support_vector_machines/svc_parameters_using_rbf_kernel/\n",
    "import warnings\n",
    "from matplotlib.colors import ListedColormap\n",
    "\n",
    "def versiontuple(v):\n",
    "    return tuple(map(int, (v.split(\".\"))))\n",
    "\n",
    "def plot_decision_regions(X, y, classifier, ax, test_idx=None, resolution=0.02):\n",
    "\n",
    "    # setup marker generator and color map\n",
    "    markers = ('s', 'x', 'o', '^', 'v')\n",
    "    colors = ('red', 'blue', 'lightgreen', 'gray', 'cyan')\n",
    "    cmap = ListedColormap(colors[:len(np.unique(y))])\n",
    "\n",
    "    # plot the decision surface\n",
    "    x1_min, x1_max = X[:, 0].min() - 1, X[:, 0].max() + 1\n",
    "    x2_min, x2_max = X[:, 1].min() - 1, X[:, 1].max() + 1\n",
    "    xx1, xx2 = np.meshgrid(np.arange(x1_min, x1_max, resolution),\n",
    "                           np.arange(x2_min, x2_max, resolution))\n",
    "    Z = classifier.predict(np.array([xx1.ravel(), xx2.ravel()]).T)\n",
    "    Z = Z.reshape(xx1.shape)\n",
    "    ax.contourf(xx1, xx2, Z, alpha=0.4, cmap=cmap)\n",
    "    ax.set_xlim(xx1.min(), xx1.max())\n",
    "    ax.set_ylim(xx2.min(), xx2.max())\n",
    "\n",
    "    for idx, cl in enumerate(np.unique(y)):\n",
    "        ax.scatter(x=X[y == cl, 0], y=X[y == cl, 1],\n",
    "                    alpha=0.8, c=colors[idx],\n",
    "                    marker=markers[idx], label=cl)\n",
    "\n",
    "    # highlight test samples\n",
    "    if test_idx:\n",
    "        # plot all samples\n",
    "        if not versiontuple(np.__version__) >= versiontuple('1.9.0'):\n",
    "            X_test, y_test = X[list(test_idx), :], y[list(test_idx)]\n",
    "            warnings.warn('Please update to NumPy 1.9.0 or newer')\n",
    "        else:\n",
    "            X_test, y_test = X[test_idx, :], y[test_idx]\n",
    "\n",
    "        ax.scatter(X_test[:, 0],\n",
    "                    X_test[:, 1],\n",
    "                    c='',\n",
    "                    alpha=1.0,\n",
    "                    linewidths=1,\n",
    "                    marker='o',\n",
    "                    s=55, label='test set')"
   ]
  },
  {
   "cell_type": "code",
   "execution_count": 37,
   "metadata": {},
   "outputs": [
    {
     "name": "stdout",
     "output_type": "stream",
     "text": [
      "svm with polynomial kernel accuracy: 92.105 %\n",
      "svm with RBF kernel accuracy: 92.982 %\n"
     ]
    }
   ],
   "source": [
    "# nonlinear SVM using Scikit-Learn\n",
    "# let's create several classifiers with different kerenls\n",
    "svm_clf_poly = SVC(kernel=\"poly\", degree=3, coef0=1, C=5, random_state=42)\n",
    "svm_clf_rbf = SVC(kernel=\"rbf\", gamma=10, C=1, random_state=42)\n",
    "\n",
    "svm_clf_poly.fit(x_train, y_train)\n",
    "svm_clf_rbf.fit(x_train, y_train)\n",
    "\n",
    "y_pred_poly = svm_clf_poly.predict(x_test)\n",
    "y_pred_rbf = svm_clf_rbf.predict(x_test)\n",
    "\n",
    "accuracy_poly = np.sum(y_pred_poly == y_test) / len(y_test)\n",
    "accuracy_rbf = np.sum(y_pred_rbf == y_test) / len(y_test)\n",
    "\n",
    "print(\"svm with polynomial kernel accuracy: {:.3f} %\".format(accuracy_poly * 100))\n",
    "print(\"svm with RBF kernel accuracy: {:.3f} %\".format(accuracy_rbf * 100))"
   ]
  },
  {
   "cell_type": "code",
   "execution_count": 42,
   "metadata": {
    "slideshow": {
     "slide_type": "subslide"
    }
   },
   "outputs": [
    {
     "data": {
      "text/plain": [
       "<matplotlib.legend.Legend at 0x2381b00cac8>"
      ]
     },
     "execution_count": 42,
     "metadata": {},
     "output_type": "execute_result"
    },
    {
     "data": {
      "image/png": "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\n",
      "text/plain": [
       "<Figure size 576x360 with 1 Axes>"
      ]
     },
     "metadata": {
      "needs_background": "light"
     },
     "output_type": "display_data"
    }
   ],
   "source": [
    "fig = plt.figure(figsize=(8, 5))\n",
    "ax = fig.add_subplot(1,1,1)\n",
    "plot_decision_regions(x_train, y_train, svm_clf_poly, ax)\n",
    "ax.set_xlabel(\"radius_mean\")\n",
    "ax.set_ylabel(\"texture_mean\")\n",
    "ax.set_title(\"SVM - Polynomial Kernel\")\n",
    "ax.legend()"
   ]
  },
  {
   "cell_type": "code",
   "execution_count": 41,
   "metadata": {
    "slideshow": {
     "slide_type": "subslide"
    }
   },
   "outputs": [
    {
     "data": {
      "text/plain": [
       "<matplotlib.legend.Legend at 0x2381afaccf8>"
      ]
     },
     "execution_count": 41,
     "metadata": {},
     "output_type": "execute_result"
    },
    {
     "data": {
      "image/png": "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\n",
      "text/plain": [
       "<Figure size 576x360 with 1 Axes>"
      ]
     },
     "metadata": {
      "needs_background": "light"
     },
     "output_type": "display_data"
    }
   ],
   "source": [
    "fig = plt.figure(figsize=(8, 5))\n",
    "ax = fig.add_subplot(1,1,1)\n",
    "plot_decision_regions(x_train, y_train, svm_clf_rbf, ax)\n",
    "ax.set_xlabel(\"radius_mean\")\n",
    "ax.set_ylabel(\"texture_mean\")\n",
    "ax.set_title(\"SVM - RBF Kernel\")\n",
    "ax.legend()"
   ]
  },
  {
   "cell_type": "markdown",
   "metadata": {
    "slideshow": {
     "slide_type": "slide"
    }
   },
   "source": [
    "## <img src=\"https://img.icons8.com/office/80/000000/details.png\" style=\"height:50px;display:inline\"> SVM Summary\n",
    "---\n",
    "* **SVM Pros**\n",
    "    * Relatively few parameters to tune\n",
    "    * SVM has theoretical foundations\n",
    "    * Efficient training, global convergence\n",
    "    * Sparse solution (otherwise it would not generalize well)\n",
    "    * State-of-the-art (SOTA) performance on popular Machine Learning problems\n",
    "* **SVM Cons**\n",
    "    * Choosing the right kernel an \"art\"\n",
    "        * See the guidelines in the previous section\n",
    "    * There is a need to keep carrying the support vectors in Kernel SVM\n",
    "        * Linear SVM has an advantage\n",
    "    * From \"Curse of Dimensionality\" to large-scale problems"
   ]
  },
  {
   "cell_type": "markdown",
   "metadata": {
    "slideshow": {
     "slide_type": "subslide"
    }
   },
   "source": [
    "* SVM for **multi-class** classification:\n",
    "    * Change the quadratic programming (QP) formulation to become multi-class\n",
    "    * Combine multiple *binary* classifiers\n",
    "        * Most common schemes: One-vs-Rest, One-vs-One\n",
    "* Output probability from SVM:\n",
    "    * Performing **Logistic Regression** on the SVM output of a set of data (test set) that is not used for training.\n",
    "        * Read here - https://scikit-learn.org/stable/modules/svm.html#scores-probabilities\n",
    "        * Built in Scikit-Learn (`svm_clf.predict_proba(test_set)`)"
   ]
  },
  {
   "cell_type": "markdown",
   "metadata": {
    "slideshow": {
     "slide_type": "slide"
    }
   },
   "source": [
    "### <img src=\"https://img.icons8.com/bubbles/50/000000/video-playlist.png\" style=\"height:50px;display:inline\"> Recommended Videos\n",
    "---\n",
    "#### <img src=\"https://img.icons8.com/cute-clipart/64/000000/warning-shield.png\" style=\"height:30px;display:inline\"> Warning!\n",
    "* These videos do not replace the lectures and tutorials.\n",
    "* Please use these to get a better understanding of the material, and not as an alternative to the written material.\n",
    "\n",
    "#### Video By Subject\n",
    "\n",
    "* Support Vector Machine (SVM) - <a href=\"https://www.youtube.com/watch?v=_PwhiWxHK8o\">MIT 6.034 Artificial Intelligence - Learning: Support Vector Machines</a>\n",
    "    * <a href=\"https://www.youtube.com/watch?v=xpHQ6UhMlx4\">Machine Learning Lecture 14 \"(Linear) Support Vector Machines\" -Cornell CS4780</a>\n",
    "* The Kernel Trick - <a href=\"https://www.youtube.com/watch?v=JiM_LXpAtLc\">Machine Learning Fundamentals - 7.2 - The Kernel Trick</a>\n",
    "    * <a href=\"https://www.youtube.com/watch?v=N_r9oJxSuRs\">The Kernel Trick</a>"
   ]
  },
  {
   "cell_type": "markdown",
   "metadata": {
    "slideshow": {
     "slide_type": "skip"
    }
   },
   "source": [
    "## <img src=\"https://img.icons8.com/dusk/64/000000/prize.png\" style=\"height:50px;display:inline\"> Credits\n",
    "---\n",
    "* Based on slides by Shai Fine\n",
    "* Icons from <a href=\"https://icons8.com/\">Icon8.com</a> - https://icons8.com\n",
    "* Datasets from <a href=\"https://www.kaggle.com/\">Kaggle</a> - https://www.kaggle.com/\n",
    "* Examples and code snippets were taken from <a href=\"http://shop.oreilly.com/product/0636920052289.do\">\"Hands-On Machine Learning with Scikit-Learn and TensorFlow\"</a>"
   ]
  }
 ],
 "metadata": {
  "kernelspec": {
   "display_name": "Python 3",
   "language": "python",
   "name": "python3"
  },
  "language_info": {
   "codemirror_mode": {
    "name": "ipython",
    "version": 3
   },
   "file_extension": ".py",
   "mimetype": "text/x-python",
   "name": "python",
   "nbconvert_exporter": "python",
   "pygments_lexer": "ipython3",
   "version": "3.6.9"
  }
 },
 "nbformat": 4,
 "nbformat_minor": 2
}
